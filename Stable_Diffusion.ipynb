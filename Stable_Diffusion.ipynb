{
  "nbformat": 4,
  "nbformat_minor": 0,
  "metadata": {
    "colab": {
      "provenance": [],
      "gpuType": "T4",
      "authorship_tag": "ABX9TyPe164dHI9HQaGnSA8klgo8",
      "include_colab_link": true
    },
    "kernelspec": {
      "name": "python3",
      "display_name": "Python 3"
    },
    "language_info": {
      "name": "python"
    },
    "accelerator": "GPU",
    "gpuClass": "standard"
  },
  "cells": [
    {
      "cell_type": "markdown",
      "metadata": {
        "id": "view-in-github",
        "colab_type": "text"
      },
      "source": [
        "<a href=\"https://colab.research.google.com/github/bme-official/Stable-Diffusion/blob/main/Stable_Diffusion.ipynb\" target=\"_parent\"><img src=\"https://colab.research.google.com/assets/colab-badge.svg\" alt=\"Open In Colab\"/></a>"
      ]
    },
    {
      "cell_type": "code",
      "execution_count": null,
      "metadata": {
        "id": "PdeBJ0gaGaYj"
      },
      "outputs": [],
      "source": [
        "!curl -Lo memfix.zip https://github.com/bme-official/sd-webui/raw/main/memfix.zip\n",
        "!unzip /content/memfix.zip\n",
        "!apt install -qq libunwind8-dev\n",
        "!dpkg -i *.deb\n",
        "%env LD_PRELOAD=libtcmalloc.so\n",
        "!rm *\n",
        "!pip install --upgrade fastapi==0.90.1\n",
        "!pip install torch==1.13.1+cu116 torchvision==0.14.1+cu116 torchaudio==0.13.1 torchtext==0.14.1 torchdata==0.5.1 --extra-index-url https://download.pytorch.org/whl/cu116 -U\n",
        "!curl -Lo sd-webui.zip https://huggingface.co/nolanaatama/webui/resolve/main/sd-webui.zip\n",
        "!unzip /content/sd-webui.zip\n",
        "!git clone https://github.com/bme-official/sd-webui-tunnels /content/sd-webui/extensions/sd-webui-tunnels\n",
        "!git clone https://github.com/Mikubill/sd-webui-controlnet /content/sd-webui/extensions/sd-webui-controlnet\n",
        "!git clone https://github.com/hnmr293/posex /content/sd-webui/extensions/posex\n",
        "## -- ↓↓↓ ここから　↓↓↓ sd-dynamic-promptingを\"extensions\"フォルダーに追加する\n",
        "!git clone https://github.com/adieyal/sd-dynamic-prompting/ /content/sd-webui/extensions/dynamic-prompts\n",
        "## -- ↑↑↑ ここまで　↑↑↑\n",
        "!curl -Lo /content/sd-webui/extensions/sd-webui-images-browser.zip https://huggingface.co/nolanaatama/webui/resolve/main/sd-webui-images-browser.zip\n",
        "%cd /content/sd-webui/extensions\n",
        "!unzip /content/sd-webui/extensions/sd-webui-images-browser.zip\n",
        "%cd /content\n",
        "\n",
        "## モデル：BRA4/BRA5を追加\n",
        "!curl -Lo /content/sd-webui/models/Stable-diffusion/braBeautifulRealistic_v50.safetensors https://huggingface.co/BanKaiPls/AsianModel/resolve/main/BRAV5finalfp16.safetensors\n",
        "!curl -Lo /content/sd-webui/embeddings/euDNFnStFsdoJUEbKe5u7xzZ.zip https://downloads.fanbox.cc/files/post/5775230/euDNFnStFsdoJUEbKe5u7xzZ.zip\n",
        "!unzip /content/sd-webui/embeddings/euDNFnStFsdoJUEbKe5u7xzZ.zip -d /content/sd-webui/embeddings/\n",
        "!rm -rf /content/sd-webui/embeddings/euDNFnStFsdoJUEbKe5u7xzZ.zip\n",
        "\n",
        "## Loraを追加\n",
        "%mkdir -p /content/sd-webui/models/Lora/\n",
        "!curl -Lo /content/sd-webui/models/Lora/makimaChainsawMan_offset.safetensors https://civitai.com/api/download/models/6244\n",
        "!curl -Lo /content/sd-webui/models/Lora/Instant_Cumshot.safetensors https://civitai.com/api/download/models/11914\n",
        "!curl -Lo /content/sd-webui/models/Lora/soccer_uniform.safetensors https://civitai.com/api/download/models/68043\n",
        "!curl -Lo /content/sd-webui/models/Lora/volleyball_uniform.safetensors https://civitai.com/api/download/models/46527\n",
        "!curl -Lo /content/sd-webui/models/Lora/ANA_uniform.safetensors https://civitai.com/api/download/models/63292\n",
        "!curl -Lo /content/sd-webui/models/Lora/JAL_uniform.safetensors https://civitai.com/api/download/models/67954\n",
        "!curl -Lo /content/sd-webui/models/Lora/Air_Asia_uniform.safetensors https://civitai.com/api/download/models/56785\n",
        "\n",
        "## vaeを追加\n",
        "!curl -Lo /content/sd-webui/models/VAE/vae-ft-ema-560000-ema-pruned.ckpt https://huggingface.co/stabilityai/sd-vae-ft-mse-original/resolve/main/vae-ft-mse-840000-ema-pruned.ckpt\n",
        "import shutil\n",
        "shutil.rmtree('/content/sd-webui/embeddings')\n",
        "!rm sd-webui.zip\n",
        "!rm sd-webui-images-browser.zip\n",
        "%cd /content/sd-webui\n",
        "!git clone https://huggingface.co/nolanaatama/embeddings\n",
        "%cd /content/sd-webui/models\n",
        "!git clone https://huggingface.co/nolanaatama/ESRGAN\n",
        "%cd /content/sd-webui\n",
        "!COMMANDLINE_ARGS=\"--share --disable-safe-unpickle --no-half-vae --xformers --reinstall-xformers --enable-insecure-extension --gradio-queue --remotemoe\" REQS_FILE=\"requirements.txt\" python launch.py"
      ]
    }
  ]
}